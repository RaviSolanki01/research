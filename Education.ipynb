{
 "cells": [
  {
   "cell_type": "markdown",
   "metadata": {},
   "source": [
    "#### How AI & ML can be used in the educatoin\n",
    "\n",
    "**Artificial intelligence** is playing a vital role in technological advancement happening in many sectors of the industry. Let's have a look at various expects of AL that can be introduced or already implemented in the education sector and also have a look at a practical implementation.\n",
    "\n",
    "Educational institutions such as elementary, higher, and professional learning environments are increasingly shifting to AI. The primary reason behind this transformation is to provide better services to learners.\n",
    "\n",
    "Artificial intelligence is the best option to overcome all challenges in learning new things. AI technology in education makes your learning process seamless. It helps educators or mentors to provide more better, informed, and personalized services to students.\n",
    "\n",
    "###### A brief information of significance of AI/ML for education.\n",
    "\n",
    "1. personalization in learning\n",
    "AI-based devices offers personalized learning services for every student. Using the power of Machine Learning (ML) algorithms, AI-enables education systems are customizing the learning materials based on their knowledge, experience, and learning mode.\n",
    "\n",
    "2. Voice Assistants \n",
    "Modern educators are using voice assistants in the offline environments. Alexa (Amazon), Home (Google), Siri (Apple), and Cortana (Microsoft) are few of best assistants allowing students to interact with study materials without the need of a teacher. These AI-devices can be used to provide informal interaction with course material and added learning assistance.\n",
    "\n",
    "3. Scoring system\n",
    "The education industries are reaping the benefits of AI and ML technologies. Feedback and scoring system are designed and developed using machine learning algorithms to assist students and professionals in writing.\n",
    "\n",
    "4. Assessment\n",
    "Using machine learning, the assessment process will be improved in many ways. Faster grading, adaptive testing, monitoring learning progress of students everything will be done in fraction of time with more accuracy.\n",
    "\n",
    "5. Activity Monitoring\n",
    "Help to monitor physical and non-physical activities, as per many pieces of research, physically fit students have getter abilities to learn than a physically weaker one.\n",
    "wearables can help school/parents to monitor students sports indulgence.\n",
    "\n",
    "Also had implemented ML/AL in various health care problems like:\n",
    "\n",
    "1. <a href=\"https://github.com/RaviSolanki01/DataScience/blob/master/Project-27.ipynb\" target=\"_blank\">Student Intervention System</a>\n",
    "2. <a href=\"url\" target=\"_blank\">graduate-admissions-analysis</a>\n",
    "3. <a href=\"url\" target=\"_blank\">What to expect after graduation? [Visualization]</a>\n",
    "4. <a href=\"url\" target=\"_blank\">Students performance in Exams</a>"
   ]
  }
 ],
 "metadata": {
  "kernelspec": {
   "display_name": "Python 3",
   "language": "python",
   "name": "python3"
  },
  "language_info": {
   "codemirror_mode": {
    "name": "ipython",
    "version": 3
   },
   "file_extension": ".py",
   "mimetype": "text/x-python",
   "name": "python",
   "nbconvert_exporter": "python",
   "pygments_lexer": "ipython3",
   "version": "3.7.1"
  }
 },
 "nbformat": 4,
 "nbformat_minor": 2
}
