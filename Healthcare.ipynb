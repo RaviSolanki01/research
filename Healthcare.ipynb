{
 "cells": [
  {
   "cell_type": "markdown",
   "metadata": {},
   "source": [
    "#### How AI & ML can be used in the health care\n",
    "\n",
    "**Artificial intelligence** is playing a vital role in technological advancement happening in many sectors of the industry. Let's have a look at various expects of AL that can be introduced or already implemented in the health care sector and also have a look at a practical implementation.\n",
    "\n",
    "The growth of artificial intelligence is evidential. Although we might see it, AI is truly changing our lives directly or indirectly, starting from its application in voice assistants such as Siri, Google Assistance, and Alexa to large scale applications in the supply chain, retail, manufacturing, enterprise mobility, autonomous cars, and more. Despite its progress in other industries and sectors, AI has genuinely made a difference in healthcare and affected thousands of people and made their lives better.\n",
    "\n",
    "###### Popular use cases of artificial intelligence in healthcare\n",
    "\n",
    "* Intelligent monitoring systems in Hospitals \n",
    "* Virtual assistance in healthcare\n",
    "* Life coaching for personal health\n",
    "* Healthcare bots\n",
    "* Diagnostics assistance and medical imaging\n",
    "* To find alternative medications or \n",
    "* Drug creation\n",
    "\n",
    "\n",
    "#### 1. Intelligent monitoring systems in Hospitals\n",
    "There are numerous hospital facilities to serve the health care system. but, these bodies require high maintenance on a daily bases. Most of the monotonous jobs like maintaining temperature, pressure, oxygen supplies, and fire systems can be regulated using past data available which will lead to better health care facilities.\n",
    "#### 2. Virtual assistance in healthcare\n",
    "Today every smartphone user is having access to at least one online virtual assistance. We can also develop health care assistance to serve health via phone.\n",
    "\n",
    "#### 2. Life coaching for personal health\n",
    "unique wearable technology and an AI-enabled mobile app can help solve the problem of regular follow-up or life coaching as a part of their treatment. these wearables can serve as life coaching instruments with an additional benefit of new data sources for further reachers.\n",
    "\n",
    "#### 2. Healthcare bots\n",
    " Chatbots in healthcare can help patients to resolve their concerns faster than traditional counseling sessions with health care service providers.bots can help healthcare service providers to improve 24/7 customer service and assist patients by processing every service request faster, starting from scheduling an appointment to paying bills.\n",
    "\n",
    "#### 2. Diagnostics assistance and medical imaging\n",
    "Medical imaging has brought revolutionary changes in providing healthcare services by providing a better picture of various anomalies. But sometimes, the anomalies are so small in size that a human eye becomes unable to detect it. With doctors not being able to detect such abnormality can even cost a patient’s life. AI helps in detecting such anomalies that the human eye cannot detect.\n",
    "\n",
    "#### 2. To find alternative medications or Drug creation\n",
    "AI can help reduce the cost of medicine by reducing the cost of R&D. It reduced months of R&D work, which saved medical institutions time, money, and efforts to provide medicines to the people in need.\n",
    "\n",
    "***\n",
    "\n",
    "Also had implemented ML/AL in various health care problems like:\n",
    "1. <a href=\"url\" target=\"_blank\">Breast cancer detection.</a>\n",
    "2. <a href=\"url\" target=\"_blank\">COVID-19 mortality risk prediction based on patient blood report.</a>\n",
    "3. <a href=\"https://github.com/RaviSolanki01/DataScience/blob/master/Project-2.ipynb\" target=\"_blank\">Headsize-Brainweight Project</a>\n",
    "4. <a href=\"https://github.com/RaviSolanki01/DataScience/blob/master/Project-7.ipynb\" target=\"_blank\">Diabetes disease Progression prediction</a>\n",
    "5. <a href=\"https://github.com/RaviSolanki01/DataScience/blob/master/Project-10.ipynb\" target=\"_blank\">Study for Pima Indian diabetes data set</a>\n",
    "6. <a href=\"https://github.com/RaviSolanki01/DataScience/blob/master/Project-15.ipynb\" target=\"_blank\">SBI Life insurance Dataset</a>\n",
    "7. <a href=\"url\" target=\"_blank\">Predict A Doctor's Consultation Fee</a>"
   ]
  },
  {
   "cell_type": "code",
   "execution_count": null,
   "metadata": {},
   "outputs": [],
   "source": []
  }
 ],
 "metadata": {
  "kernelspec": {
   "display_name": "Python 3",
   "language": "python",
   "name": "python3"
  },
  "language_info": {
   "codemirror_mode": {
    "name": "ipython",
    "version": 3
   },
   "file_extension": ".py",
   "mimetype": "text/x-python",
   "name": "python",
   "nbconvert_exporter": "python",
   "pygments_lexer": "ipython3",
   "version": "3.7.1"
  }
 },
 "nbformat": 4,
 "nbformat_minor": 2
}
